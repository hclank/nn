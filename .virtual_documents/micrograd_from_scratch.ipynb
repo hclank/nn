import math
import numpy as np
import matplotlib.pyplot as plt
%matplotlib inline


def f(x):
    return 3*x**2 + 2*x + 5
f(3.0)


xs = np.arange(-5,5,0.25)
ys = f(xs)

plt.plot(xs, ys)


class Value:
    def __init__(self, data, _children=(), _op='', label=''):
        self.data = data
        self._prev = set(_children)
        self.grad = 0
        self._op = _op
        self.label = label

    def __repr__(self):
        return f"Value(data={self.data})"

    def __add__(self, other):
        out  = Value(self.data + other.data, (self, other), _op='+')
        return out

    def __mul__(self, other):
        out = Value(self.data * other.data, (self, other), _op='*')
        return out

a = Value(2.0, label='a')
b = Value(-3.0, label='b')
c = Value(5.0, label='c')

d = a*b+c


# back propogation of neurons


plt.plot(np.arange(-5, 5, 0.2), np.tanh(np.arange(-5, 5, 0.2)))


# inputs x1 and x2
x1 = Value(2.0, label="x1")
x2 = Value(0.0, label="x2")

# weights w1 and w2
w1 = Value(-3.0, label="w1")
w2 = Value(1.0, label="w2")

# bias of neuron
b = Value(6.7, label="b")

x1w1 = x1*w1; x1w1.label = "x1w1"
x2w2 = x2*w2; x2w2.label = "x2w2"
x1w1x2w2 = x1w1*x2w2; x1w1x2w2.label = "x1w1x2w2"
n = x1w1x2w2 + b; n.label = "n"



